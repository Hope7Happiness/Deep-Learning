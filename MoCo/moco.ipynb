{
 "cells": [
  {
   "cell_type": "markdown",
   "metadata": {},
   "source": [
    "# MoCo\n",
    "\n",
    "In this notebook, we are going to reproduce [MoCo](https://arxiv.org/pdf/1911.05722) on the image dataset [CIFAR10](https://en.wikipedia.org/wiki/CIFAR-10). Without heavy tuning of hyperparameters, the pretrained MoCo model can achieve more than $45\\%$ classification accuracy on CIFAR10 within $0.5$ 4090 hours by simply adding a single linear layer of prediction head."
   ]
  },
  {
   "cell_type": "markdown",
   "metadata": {},
   "source": [
    "First, we can try to get a $5\\times 5$ sample from the CIFAR10 dataset. Please run the following cell to ensure the dataset and all necessary packages are installed."
   ]
  },
  {
   "cell_type": "code",
   "execution_count": null,
   "metadata": {},
   "outputs": [],
   "source": [
    "from torch.utils.data import DataLoader, Dataset\n",
    "from tqdm.autonotebook import tqdm\n",
    "import numpy as np\n",
    "import os\n",
    "import time\n",
    "import torch\n",
    "import torch.nn as nn\n",
    "import torch.nn.functional as F\n",
    "import torchvision\n",
    "from torchvision import transforms\n",
    "from utils import save_model, load_model, train_set, sample_data\n",
    "from model import CustomResNet, MoCo, create_resnet_encoder, ClassificationHead\n",
    "import yaml\n",
    "from torch.utils.tensorboard import SummaryWriter\n",
    "\n",
    "sample_data(5, 5)"
   ]
  },
  {
   "cell_type": "code",
   "execution_count": null,
   "metadata": {
    "vscode": {
     "languageId": "plaintext"
    }
   },
   "outputs": [],
   "source": []
  }
 ],
 "metadata": {
  "language_info": {
   "name": "python"
  }
 },
 "nbformat": 4,
 "nbformat_minor": 2
}
